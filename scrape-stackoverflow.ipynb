{
 "cells": [
  {
   "cell_type": "markdown",
   "id": "99b80c21-d091-422f-ac8b-02ba82896c7e",
   "metadata": {},
   "source": [
    "# Scraping StackOverflow\n",
    "This notebook scrapes StackOverflow for dask-tagged questions and puts the cleaned data into a DataFrame for further analysis."
   ]
  },
  {
   "cell_type": "code",
   "execution_count": null,
   "id": "2086caa3-20df-44e3-bfbd-ee351a66dd69",
   "metadata": {},
   "outputs": [],
   "source": []
  },
  {
   "cell_type": "markdown",
   "id": "52eaa8b6-db50-4788-8edf-b682830c3c01",
   "metadata": {},
   "source": [
    "## Scraping Data"
   ]
  },
  {
   "cell_type": "code",
   "execution_count": 1,
   "id": "982af04f-2a60-4620-b34f-acb269e9edbf",
   "metadata": {},
   "outputs": [],
   "source": [
    "import re\n",
    "import time\n",
    "\n",
    "import pandas as pd\n",
    "import requests\n",
    "from requests_html import HTML"
   ]
  },
  {
   "cell_type": "code",
   "execution_count": 2,
   "id": "5f88f86b-70b2-4452-a823-e51963018db5",
   "metadata": {},
   "outputs": [
    {
     "data": {
      "text/plain": [
       "'https://stackoverflow.com/questions/tagged/dask?tab=Newest'"
      ]
     },
     "execution_count": 2,
     "metadata": {},
     "output_type": "execute_result"
    }
   ],
   "source": [
    "base_url = \"https://stackoverflow.com/questions/tagged/\"\n",
    "tag = \"dask\"\n",
    "query_filter = \"Newest\"\n",
    "url = f\"{base_url}{tag}?tab={query_filter}\"\n",
    "url"
   ]
  },
  {
   "cell_type": "code",
   "execution_count": 3,
   "id": "ac05b6e0-4e28-48fc-8209-e704368dbdae",
   "metadata": {
    "tags": []
   },
   "outputs": [],
   "source": [
    "r = requests.get(url)\n",
    "html_str = r.text\n",
    "html = HTML(html=html_str)"
   ]
  },
  {
   "cell_type": "code",
   "execution_count": 4,
   "id": "5c1dc65a-6285-4dd8-8caa-1b8094167e21",
   "metadata": {},
   "outputs": [],
   "source": [
    "question_elements = html.find(\".s-post-summary\")"
   ]
  },
  {
   "cell_type": "code",
   "execution_count": 5,
   "id": "0f17ddc2-ef49-4c8a-babe-3bafbe86aa56",
   "metadata": {},
   "outputs": [
    {
     "name": "stdout",
     "output_type": "stream",
     "text": [
      "0 votes\n",
      "0 answers\n",
      "4 views\n",
      "can I use columns with object type in xgboost?\n",
      "I want to develop Xgboost model on Dask. I import parquet files and all columns have object type. Do I need to convert column's type from object to numeric? If do, what is most convenient way to do ...\n",
      "machine-learning\n",
      "dask\n",
      "xgboost\n",
      "dask-distributed\n",
      "dask-dataframe\n",
      "Lev1990\n",
      "7\n",
      "asked 8 mins ago\n"
     ]
    }
   ],
   "source": [
    "print(question_elements[0].text)"
   ]
  },
  {
   "cell_type": "code",
   "execution_count": null,
   "id": "10d70d35-983e-44a3-b9d1-ebc67264378f",
   "metadata": {},
   "outputs": [],
   "source": []
  },
  {
   "cell_type": "markdown",
   "id": "c4c6c732-85de-40ad-88ac-4698c55af3de",
   "metadata": {
    "jp-MarkdownHeadingCollapsed": true,
    "tags": []
   },
   "source": [
    "### Get Data for 1 Question"
   ]
  },
  {
   "cell_type": "code",
   "execution_count": 6,
   "id": "4fea35e7-4347-445e-bd0b-23168afb7089",
   "metadata": {},
   "outputs": [],
   "source": [
    "# get most recent question element\n",
    "this_question_element = question_elements[0]"
   ]
  },
  {
   "cell_type": "code",
   "execution_count": 7,
   "id": "49c2872c-7366-4a4e-a936-81b59f585ac3",
   "metadata": {},
   "outputs": [
    {
     "data": {
      "text/plain": [
       "'0 votes\\n0 answers\\n23 views\\nDask and persistence of data on the cluster\\nI am working on a project that uses historical data and also incoming data for analysis. I would like to learn how to manage updating incoming data on dask while not having to dispatch all the ...\\npython\\ndask\\nmatt\\n33\\nasked yesterday'"
      ]
     },
     "execution_count": 7,
     "metadata": {},
     "output_type": "execute_result"
    }
   ],
   "source": [
    "# inspect element\n",
    "this_question_element.text"
   ]
  },
  {
   "cell_type": "code",
   "execution_count": 8,
   "id": "6605a407-6933-4975-838c-98b6742fd290",
   "metadata": {},
   "outputs": [
    {
     "data": {
      "text/plain": [
       "'Dask and persistence of data on the cluster'"
      ]
     },
     "execution_count": 8,
     "metadata": {},
     "output_type": "execute_result"
    }
   ],
   "source": [
    "# get question title\n",
    "this_question_element.find(\".s-link\", first=True).text"
   ]
  },
  {
   "cell_type": "code",
   "execution_count": 9,
   "id": "9a02d767-053d-484d-b1d2-e1b46206f3ce",
   "metadata": {},
   "outputs": [
    {
     "data": {
      "text/plain": [
       "'0 votes 0 answers 23 views'"
      ]
     },
     "execution_count": 9,
     "metadata": {},
     "output_type": "execute_result"
    }
   ],
   "source": [
    "# get stats (formatted more nicely)\n",
    "this_question_element.find(\".s-post-summary--stats\", first=True).text.replace(\"\\n\", \" \")"
   ]
  },
  {
   "cell_type": "code",
   "execution_count": 10,
   "id": "afa547a7-4910-45b6-adec-37ab5199500a",
   "metadata": {},
   "outputs": [
    {
     "data": {
      "text/plain": [
       "'python dask matt 33 asked yesterday'"
      ]
     },
     "execution_count": 10,
     "metadata": {},
     "output_type": "execute_result"
    }
   ],
   "source": [
    "# get metadata\n",
    "this_question_element.find(\".s-post-summary--meta\", first=True).text.replace(\"\\n\", \" \")"
   ]
  },
  {
   "cell_type": "code",
   "execution_count": 11,
   "id": "197ed377-d811-4a30-b003-a5d471090678",
   "metadata": {},
   "outputs": [
    {
     "data": {
      "text/plain": [
       "'I am working on a project that uses historical data and also incoming data for analysis. I would like to learn how to manage updating incoming data on dask while not having to dispatch all the ...'"
      ]
     },
     "execution_count": 11,
     "metadata": {},
     "output_type": "execute_result"
    }
   ],
   "source": [
    "# get question excerpt\n",
    "this_question_element.find(\".s-post-summary--content-excerpt\", first=True).text"
   ]
  },
  {
   "cell_type": "code",
   "execution_count": 12,
   "id": "881eb0e7-6edb-4643-a5af-3c9eb0064312",
   "metadata": {},
   "outputs": [
    {
     "data": {
      "text/plain": [
       "'Dask and persistence of data on the cluster'"
      ]
     },
     "execution_count": 12,
     "metadata": {},
     "output_type": "execute_result"
    }
   ],
   "source": [
    "# get question title\n",
    "this_question_element.find(\".s-post-summary--content-title\", first=True).text"
   ]
  },
  {
   "cell_type": "code",
   "execution_count": 13,
   "id": "30ca13c7-4146-4f4f-9da9-ef64e29f7015",
   "metadata": {},
   "outputs": [
    {
     "data": {
      "text/plain": [
       "<Element 'a' href='/questions/74367670/dask-and-persistence-of-data-on-the-cluster' class=('s-link',)>"
      ]
     },
     "execution_count": 13,
     "metadata": {},
     "output_type": "execute_result"
    }
   ],
   "source": [
    "# get question hyperlink\n",
    "this_question_element.find(\".s-link\", first=True)"
   ]
  },
  {
   "cell_type": "code",
   "execution_count": null,
   "id": "934cdfa8-d4fd-40b8-9ed4-0ea8ec69e413",
   "metadata": {},
   "outputs": [],
   "source": []
  },
  {
   "cell_type": "code",
   "execution_count": null,
   "id": "c502c66b-4859-461f-9d46-9c31a0daf997",
   "metadata": {},
   "outputs": [],
   "source": []
  },
  {
   "cell_type": "markdown",
   "id": "0dcaf172-fed3-4d80-8df9-250e564a1e03",
   "metadata": {},
   "source": [
    "### Get Data for All Questions"
   ]
  },
  {
   "cell_type": "markdown",
   "id": "bc4127d4-c8ac-42fe-8716-1ef0b4ec4e8a",
   "metadata": {},
   "source": [
    "\n",
    "We want to ideally get:\n",
    "- the question title\n",
    "- answered / unanswered status ( get from n_answers )\n",
    "- number of answers\n",
    "- number of votes\n",
    "- number of views\n",
    "- tags (this one might be tricky)\n",
    "- the question hyperlink (unsure yet how to do exactly)\n",
    "- timestamp would be nice\n",
    "- "
   ]
  },
  {
   "cell_type": "code",
   "execution_count": 6,
   "id": "718230ea-04f8-43a6-a9e5-2fddb697fddc",
   "metadata": {},
   "outputs": [],
   "source": [
    "# define keynames and quetions needed\n",
    "keynames = [\"title\", \"stats\", \"tags\"]\n",
    "classes_needed = [\n",
    "    \".s-post-summary--content-title\",\n",
    "    \".s-post-summary--stats\",\n",
    "    \".s-post-summary--meta-tags\",\n",
    "]"
   ]
  },
  {
   "cell_type": "code",
   "execution_count": 7,
   "id": "cf3cde61-e57c-4aa8-8c13-3ddb79b4e292",
   "metadata": {},
   "outputs": [],
   "source": [
    "datas = []\n",
    "\n",
    "for q_el in question_elements:\n",
    "    q_data = {}\n",
    "    for i, _class in enumerate(classes_needed):\n",
    "        sub_el = q_el.find(_class, first=True)\n",
    "        keyname = keynames[i]\n",
    "        q_data[keyname] = sub_el.text\n",
    "    datas.append(q_data)"
   ]
  },
  {
   "cell_type": "code",
   "execution_count": 8,
   "id": "4d16cba1-5e72-40dd-830f-a9672c69ddc5",
   "metadata": {},
   "outputs": [
    {
     "data": {
      "text/html": [
       "<div>\n",
       "<style scoped>\n",
       "    .dataframe tbody tr th:only-of-type {\n",
       "        vertical-align: middle;\n",
       "    }\n",
       "\n",
       "    .dataframe tbody tr th {\n",
       "        vertical-align: top;\n",
       "    }\n",
       "\n",
       "    .dataframe thead th {\n",
       "        text-align: right;\n",
       "    }\n",
       "</style>\n",
       "<table border=\"1\" class=\"dataframe\">\n",
       "  <thead>\n",
       "    <tr style=\"text-align: right;\">\n",
       "      <th></th>\n",
       "      <th>title</th>\n",
       "      <th>stats</th>\n",
       "      <th>tags</th>\n",
       "    </tr>\n",
       "  </thead>\n",
       "  <tbody>\n",
       "    <tr>\n",
       "      <th>0</th>\n",
       "      <td>can I use columns with object type in xgboost?</td>\n",
       "      <td>0 votes\\n0 answers\\n4 views</td>\n",
       "      <td>machine-learning\\ndask\\nxgboost\\ndask-distribu...</td>\n",
       "    </tr>\n",
       "    <tr>\n",
       "      <th>1</th>\n",
       "      <td>How to read a text file using dask where the r...</td>\n",
       "      <td>-1 votes\\n0 answers\\n14 views</td>\n",
       "      <td>python\\ndask</td>\n",
       "    </tr>\n",
       "    <tr>\n",
       "      <th>2</th>\n",
       "      <td>Dask - Is there a way to get disconnected/netw...</td>\n",
       "      <td>0 votes\\n0 answers\\n7 views</td>\n",
       "      <td>dask\\ndask-distributed</td>\n",
       "    </tr>\n",
       "  </tbody>\n",
       "</table>\n",
       "</div>"
      ],
      "text/plain": [
       "                                               title  \\\n",
       "0     can I use columns with object type in xgboost?   \n",
       "1  How to read a text file using dask where the r...   \n",
       "2  Dask - Is there a way to get disconnected/netw...   \n",
       "\n",
       "                           stats  \\\n",
       "0    0 votes\\n0 answers\\n4 views   \n",
       "1  -1 votes\\n0 answers\\n14 views   \n",
       "2    0 votes\\n0 answers\\n7 views   \n",
       "\n",
       "                                                tags  \n",
       "0  machine-learning\\ndask\\nxgboost\\ndask-distribu...  \n",
       "1                                       python\\ndask  \n",
       "2                             dask\\ndask-distributed  "
      ]
     },
     "execution_count": 8,
     "metadata": {},
     "output_type": "execute_result"
    }
   ],
   "source": [
    "df = pd.DataFrame(datas)\n",
    "df.head(3)"
   ]
  },
  {
   "cell_type": "markdown",
   "id": "dc884fef-5bf5-4e67-8d58-46f16208f2fd",
   "metadata": {},
   "source": [
    "OK, the basics are working here.\n",
    "\n",
    "Let's now refine:\n",
    "- Separate votes, answers, and views into separate columns\n",
    "- Separate tags into separate colum"
   ]
  },
  {
   "cell_type": "code",
   "execution_count": 9,
   "id": "94c257f8-dd04-4067-9756-989529772334",
   "metadata": {},
   "outputs": [
    {
     "ename": "NameError",
     "evalue": "name 'this_question_element' is not defined",
     "output_type": "error",
     "traceback": [
      "\u001b[0;31m---------------------------------------------------------------------------\u001b[0m",
      "\u001b[0;31mNameError\u001b[0m                                 Traceback (most recent call last)",
      "Cell \u001b[0;32mIn [9], line 2\u001b[0m\n\u001b[1;32m      1\u001b[0m \u001b[38;5;66;03m# get stats and split\u001b[39;00m\n\u001b[0;32m----> 2\u001b[0m \u001b[43mthis_question_element\u001b[49m\u001b[38;5;241m.\u001b[39mfind(\u001b[38;5;124m'\u001b[39m\u001b[38;5;124m.s-post-summary--stats\u001b[39m\u001b[38;5;124m'\u001b[39m, first\u001b[38;5;241m=\u001b[39m\u001b[38;5;28;01mTrue\u001b[39;00m)\u001b[38;5;241m.\u001b[39mtext\u001b[38;5;241m.\u001b[39msplit(\u001b[38;5;124m\"\u001b[39m\u001b[38;5;130;01m\\n\u001b[39;00m\u001b[38;5;124m\"\u001b[39m)\n",
      "\u001b[0;31mNameError\u001b[0m: name 'this_question_element' is not defined"
     ]
    }
   ],
   "source": [
    "# get stats and split\n",
    "this_question_element.find(\".s-post-summary--stats\", first=True).text.split(\"\\n\")"
   ]
  },
  {
   "cell_type": "code",
   "execution_count": 18,
   "id": "8a1855ce-a82e-400d-980b-9ffe353267dc",
   "metadata": {},
   "outputs": [
    {
     "data": {
      "text/plain": [
       "['0', '0', '23']"
      ]
     },
     "execution_count": 18,
     "metadata": {},
     "output_type": "execute_result"
    }
   ],
   "source": [
    "# get only numbers\n",
    "stats_test = re.findall(\n",
    "    r\"\\d+\", this_question_element.find(\".s-post-summary--stats\", first=True).text\n",
    ")\n",
    "stats_test"
   ]
  },
  {
   "cell_type": "code",
   "execution_count": null,
   "id": "f020032c-cdfa-4ced-b6de-d3d6515929f5",
   "metadata": {},
   "outputs": [],
   "source": []
  },
  {
   "cell_type": "code",
   "execution_count": 19,
   "id": "51f4eeb7-b145-46b3-bafe-8e56b403a1fb",
   "metadata": {},
   "outputs": [
    {
     "data": {
      "text/plain": [
       "['python', 'dask']"
      ]
     },
     "execution_count": 19,
     "metadata": {},
     "output_type": "execute_result"
    }
   ],
   "source": [
    "# get just tags\n",
    "this_question_element.find(\".s-post-summary--meta-tags\", first=True).text.split(\"\\n\")"
   ]
  },
  {
   "cell_type": "markdown",
   "id": "9dffa695-4a2d-4faa-a222-c96c977c900e",
   "metadata": {},
   "source": [
    "OK, we now have clean tags and stats. Let's try this again:"
   ]
  },
  {
   "cell_type": "code",
   "execution_count": 9,
   "id": "017b3120-0885-45ac-931a-cd517e41874f",
   "metadata": {},
   "outputs": [],
   "source": [
    "# function that will clean the scraped data\n",
    "def clean_scraped_data(text, keyname=None):\n",
    "    if keyname == \"stats\":\n",
    "        rep = {\n",
    "            \" vote\": \"\",\n",
    "            \" answer\": \"\",\n",
    "            \" view\": \"\",\n",
    "            \"s\": \"\",\n",
    "        }  # remove singular instances first, then remove all remaining \"s\"\n",
    "        # replace\n",
    "        rep = dict((re.escape(k), v) for k, v in rep.items())\n",
    "        pattern = re.compile(\"|\".join(rep.keys()))\n",
    "        text = pattern.sub(lambda m: rep[re.escape(m.group(0))], text)\n",
    "        text = text.split(\"\\n\")\n",
    "        # replace any k with 000\n",
    "        new_text = []\n",
    "        for n in text:\n",
    "            res = re.sub(\"k\", \"000\", n)\n",
    "            n = int(res)\n",
    "            new_text.append(n)\n",
    "        return new_text\n",
    "\n",
    "    elif keyname == \"tags\":\n",
    "        return text.split(\"\\n\")\n",
    "    return text"
   ]
  },
  {
   "cell_type": "code",
   "execution_count": 10,
   "id": "40a871b6-e997-4c75-896f-f74b5f5f3612",
   "metadata": {},
   "outputs": [],
   "source": [
    "datas = []\n",
    "\n",
    "for q_el in question_elements:\n",
    "    q_data = {}\n",
    "    for i, _class in enumerate(classes_needed):\n",
    "        sub_el = q_el.find(_class, first=True)\n",
    "        keyname = keynames[i]\n",
    "        q_data[keyname] = clean_scraped_data(sub_el.text, keyname=keyname)\n",
    "    datas.append(q_data)"
   ]
  },
  {
   "cell_type": "code",
   "execution_count": 11,
   "id": "6dcba353-a9bc-42d2-ba5d-d288f6d8845c",
   "metadata": {},
   "outputs": [
    {
     "data": {
      "text/html": [
       "<div>\n",
       "<style scoped>\n",
       "    .dataframe tbody tr th:only-of-type {\n",
       "        vertical-align: middle;\n",
       "    }\n",
       "\n",
       "    .dataframe tbody tr th {\n",
       "        vertical-align: top;\n",
       "    }\n",
       "\n",
       "    .dataframe thead th {\n",
       "        text-align: right;\n",
       "    }\n",
       "</style>\n",
       "<table border=\"1\" class=\"dataframe\">\n",
       "  <thead>\n",
       "    <tr style=\"text-align: right;\">\n",
       "      <th></th>\n",
       "      <th>title</th>\n",
       "      <th>stats</th>\n",
       "      <th>tags</th>\n",
       "    </tr>\n",
       "  </thead>\n",
       "  <tbody>\n",
       "    <tr>\n",
       "      <th>0</th>\n",
       "      <td>can I use columns with object type in xgboost?</td>\n",
       "      <td>[0, 0, 4]</td>\n",
       "      <td>[machine-learning, dask, xgboost, dask-distrib...</td>\n",
       "    </tr>\n",
       "    <tr>\n",
       "      <th>1</th>\n",
       "      <td>How to read a text file using dask where the r...</td>\n",
       "      <td>[-1, 0, 14]</td>\n",
       "      <td>[python, dask]</td>\n",
       "    </tr>\n",
       "    <tr>\n",
       "      <th>2</th>\n",
       "      <td>Dask - Is there a way to get disconnected/netw...</td>\n",
       "      <td>[0, 0, 7]</td>\n",
       "      <td>[dask, dask-distributed]</td>\n",
       "    </tr>\n",
       "    <tr>\n",
       "      <th>3</th>\n",
       "      <td>Csv file search speedup</td>\n",
       "      <td>[0, 2, 31]</td>\n",
       "      <td>[pandas, dask, dask-dataframe]</td>\n",
       "    </tr>\n",
       "    <tr>\n",
       "      <th>4</th>\n",
       "      <td>Looking up value in csv file</td>\n",
       "      <td>[0, 1, 42]</td>\n",
       "      <td>[python, pandas, csv, filter, dask]</td>\n",
       "    </tr>\n",
       "  </tbody>\n",
       "</table>\n",
       "</div>"
      ],
      "text/plain": [
       "                                               title        stats  \\\n",
       "0     can I use columns with object type in xgboost?    [0, 0, 4]   \n",
       "1  How to read a text file using dask where the r...  [-1, 0, 14]   \n",
       "2  Dask - Is there a way to get disconnected/netw...    [0, 0, 7]   \n",
       "3                            Csv file search speedup   [0, 2, 31]   \n",
       "4                       Looking up value in csv file   [0, 1, 42]   \n",
       "\n",
       "                                                tags  \n",
       "0  [machine-learning, dask, xgboost, dask-distrib...  \n",
       "1                                     [python, dask]  \n",
       "2                           [dask, dask-distributed]  \n",
       "3                     [pandas, dask, dask-dataframe]  \n",
       "4                [python, pandas, csv, filter, dask]  "
      ]
     },
     "execution_count": 11,
     "metadata": {},
     "output_type": "execute_result"
    }
   ],
   "source": [
    "df = pd.DataFrame(datas)\n",
    "df.head()"
   ]
  },
  {
   "cell_type": "markdown",
   "id": "40b2b741-afe6-4fd2-ba21-4354d69da0c1",
   "metadata": {},
   "source": [
    "Sweet. This is working for the first 50 results."
   ]
  },
  {
   "cell_type": "code",
   "execution_count": 12,
   "id": "79040529-8732-4b30-a9bf-3849fcd9df3d",
   "metadata": {},
   "outputs": [],
   "source": [
    "# define function that will parse a single page\n",
    "def parse_tagged_page(html):\n",
    "    question_elements = html.find(\".s-post-summary\")\n",
    "    keynames = [\"title\", \"stats\", \"tags\"]\n",
    "    classes_needed = [\n",
    "        \".s-post-summary--content-title\",\n",
    "        \".s-post-summary--stats\",\n",
    "        \".s-post-summary--meta-tags\",\n",
    "    ]\n",
    "    datas = []\n",
    "    for q_el in question_elements:\n",
    "        q_data = {}\n",
    "        for i, _class in enumerate(classes_needed):\n",
    "            sub_el = q_el.find(_class, first=True)\n",
    "            keyname = keynames[i]\n",
    "            q_data[keyname] = clean_scraped_data(sub_el.text, keyname=keyname)\n",
    "        datas.append(q_data)\n",
    "    return datas"
   ]
  },
  {
   "cell_type": "code",
   "execution_count": 13,
   "id": "96224190-320e-47ae-872e-a743cccd8ce4",
   "metadata": {},
   "outputs": [],
   "source": [
    "# define function that will extract data from url\n",
    "def extract_data_from_url(url):\n",
    "    r = requests.get(url)\n",
    "    if r.status_code not in range(200, 299):\n",
    "        return []\n",
    "    html_str = r.text\n",
    "    html = HTML(html=html_str)\n",
    "    datas = parse_tagged_page(html)\n",
    "    return datas"
   ]
  },
  {
   "cell_type": "code",
   "execution_count": 14,
   "id": "56cd5ced-3435-442b-b396-02f31f4cc641",
   "metadata": {},
   "outputs": [],
   "source": [
    "# function that will scrape the entire tag\n",
    "def scrape_tag(tag=\"python\", query_filter=\"Newest\", max_pages=100, pagesize=50):\n",
    "    base_url = \"https://stackoverflow.com/questions/tagged/\"\n",
    "    datas = []\n",
    "    for p in range(max_pages):\n",
    "        page_num = p + 1\n",
    "        url = f\"{base_url}{tag}?tab={query_filter}&page={page_num}&pagesize={pagesize}\"\n",
    "        datas += extract_data_from_url(url)\n",
    "        time.sleep(1.2)\n",
    "    return datas"
   ]
  },
  {
   "cell_type": "code",
   "execution_count": 29,
   "id": "49a6c6bb-3d1b-4f29-9886-84cdc13cc4a6",
   "metadata": {
    "tags": []
   },
   "outputs": [
    {
     "name": "stdout",
     "output_type": "stream",
     "text": [
      "CPU times: user 3.52 s, sys: 388 ms, total: 3.91 s\n",
      "Wall time: 19.8 s\n"
     ]
    }
   ],
   "source": [
    "%%time\n",
    "seq = scrape_tag(max_pages=10)"
   ]
  },
  {
   "cell_type": "code",
   "execution_count": null,
   "id": "5857d24c-d41f-4723-934c-f73a27c8be0e",
   "metadata": {},
   "outputs": [],
   "source": []
  },
  {
   "cell_type": "code",
   "execution_count": null,
   "id": "61539287-f3ef-40aa-97b9-d0bda0f9d0a6",
   "metadata": {},
   "outputs": [],
   "source": []
  },
  {
   "cell_type": "code",
   "execution_count": null,
   "id": "a76d092e-0ee0-4ba4-b419-f7f608e7df65",
   "metadata": {},
   "outputs": [],
   "source": []
  },
  {
   "cell_type": "code",
   "execution_count": 34,
   "id": "5dfadca8-c215-44cd-b47d-12dd2ddf4d03",
   "metadata": {},
   "outputs": [],
   "source": [
    "# function that will scrape the entire tag\n",
    "def scrape_tag_single(max_pages, tag=\"python\", query_filter=\"Newest\", pagesize=50):\n",
    "    base_url = \"https://stackoverflow.com/questions/tagged/\"\n",
    "    datas = []\n",
    "    p = max_pages\n",
    "    url = f\"{base_url}{tag}?tab={query_filter}&page={p}&pagesize={pagesize}\"\n",
    "    datas += extract_data_from_url(url)\n",
    "    time.sleep(1.2)\n",
    "    return datas"
   ]
  },
  {
   "cell_type": "code",
   "execution_count": 19,
   "id": "93f4576d-b7e8-4a8b-ae51-b9771422f509",
   "metadata": {},
   "outputs": [
    {
     "name": "stderr",
     "output_type": "stream",
     "text": [
      "/Users/rpelgrim/mambaforge/envs/scrape/lib/python3.10/site-packages/distributed/node.py:177: UserWarning: Port 8787 is already in use.\n",
      "Perhaps you already have a cluster running?\n",
      "Hosting the HTTP server on port 57013 instead\n",
      "  warnings.warn(\n"
     ]
    }
   ],
   "source": [
    "from distributed import Client\n",
    "client = Client()"
   ]
  },
  {
   "cell_type": "code",
   "execution_count": null,
   "id": "155738ff-a83c-420f-84ca-741d7bd88910",
   "metadata": {},
   "outputs": [],
   "source": []
  },
  {
   "cell_type": "markdown",
   "id": "661e5b40-d16c-487f-8352-757a295c42ef",
   "metadata": {},
   "source": [
    "## Client.map"
   ]
  },
  {
   "cell_type": "code",
   "execution_count": 23,
   "id": "4994e037-2492-444d-9933-cf76852a6131",
   "metadata": {},
   "outputs": [],
   "source": [
    "from distributed import wait"
   ]
  },
  {
   "cell_type": "code",
   "execution_count": 36,
   "id": "c6eb7015-04aa-4e42-987e-d57f2ed115da",
   "metadata": {},
   "outputs": [
    {
     "name": "stdout",
     "output_type": "stream",
     "text": [
      "CPU times: user 16.8 ms, sys: 3.69 ms, total: 20.5 ms\n",
      "Wall time: 19.7 ms\n"
     ]
    },
    {
     "data": {
      "text/plain": [
       "DoneAndNotDoneFutures(done={<Future: finished, type: list, key: scrape_tag_single-17bf1b0dcc8e38ea17519282a6de5a83>, <Future: finished, type: list, key: scrape_tag_single-24cc2f8b2c456b0f993cc8ca2176ff30>, <Future: finished, type: list, key: scrape_tag_single-bb084bb71b96e202eb3e9c72c6dfbe82>, <Future: finished, type: list, key: scrape_tag_single-7d6433dca6406e68b0f780575a3c83eb>, <Future: finished, type: list, key: scrape_tag_single-714c201077b05f5ecaa2ee98db2e6d96>, <Future: finished, type: list, key: scrape_tag_single-47026530175aed9c79d6d115290448dc>, <Future: finished, type: list, key: scrape_tag_single-198b636944619c22d20a20525049a8f5>, <Future: finished, type: list, key: scrape_tag_single-863979211b89758085df3a77b7e9f8dc>, <Future: finished, type: list, key: scrape_tag_single-3cc0ea89604534d55d2d60d2ce30411f>, <Future: finished, type: list, key: scrape_tag_single-b7017e4df5c0f18709c7ea4ab8f689b6>}, not_done=set())"
      ]
     },
     "execution_count": 36,
     "metadata": {},
     "output_type": "execute_result"
    }
   ],
   "source": [
    "%%time\n",
    "t = client.map(scrape_tag_single, range(10))\n",
    "wait(t)"
   ]
  },
  {
   "cell_type": "code",
   "execution_count": null,
   "id": "62581448-083f-42ad-b719-6a9295fc2d01",
   "metadata": {},
   "outputs": [],
   "source": [
    "client.gather(t)"
   ]
  },
  {
   "cell_type": "code",
   "execution_count": null,
   "id": "bed5c9cd-18f4-4f62-8c11-42591f52c868",
   "metadata": {},
   "outputs": [],
   "source": []
  },
  {
   "cell_type": "code",
   "execution_count": null,
   "id": "9215955b-410a-40b5-9d6f-0349286d3f33",
   "metadata": {},
   "outputs": [],
   "source": []
  },
  {
   "cell_type": "markdown",
   "id": "2d5b2c2f-c301-4af9-be1b-4e13c34a2bb5",
   "metadata": {},
   "source": [
    "## Client.submit"
   ]
  },
  {
   "cell_type": "code",
   "execution_count": 33,
   "id": "2365f645-3617-410d-8a7b-d0c32ead589d",
   "metadata": {},
   "outputs": [
    {
     "name": "stdout",
     "output_type": "stream",
     "text": [
      "CPU times: user 914 ms, sys: 241 ms, total: 1.16 s\n",
      "Wall time: 12 s\n"
     ]
    },
    {
     "data": {
      "text/plain": [
       "DoneAndNotDoneFutures(done={<Future: finished, type: list, key: extract_data_from_url-d7e0116e941d2e23cfc1a92882994763>, <Future: finished, type: list, key: extract_data_from_url-8c61af35e86d4feb931c3eb4cd7d2ae6>, <Future: finished, type: list, key: extract_data_from_url-58a7da78e8a18b276f554d84a771479f>, <Future: finished, type: list, key: extract_data_from_url-08774f42e61962d120d885121ee8c62f>, <Future: finished, type: list, key: extract_data_from_url-c4f561b32fa10d57ec05200a41274bf5>, <Future: finished, type: list, key: extract_data_from_url-ae95250fb98f257376ac7355035a642c>, <Future: finished, type: list, key: extract_data_from_url-10b5a5d8a48d527e3d6a9ef73bb8e850>, <Future: finished, type: list, key: extract_data_from_url-61e672fa1e377f950ea2706a52e3210a>, <Future: finished, type: list, key: extract_data_from_url-e1137986f80e096e1ccfcdb1d6039a41>, <Future: finished, type: list, key: extract_data_from_url-bde5fe93ccb9ef1e9329987caf468c79>}, not_done=set())"
      ]
     },
     "execution_count": 33,
     "metadata": {},
     "output_type": "execute_result"
    }
   ],
   "source": [
    "%%time\n",
    "\n",
    "# function that will scrape the entire tag\n",
    "base_url = \"https://stackoverflow.com/questions/tagged/\"\n",
    "tag = \"python\"\n",
    "max_pages = 10\n",
    "pagesize = 50\n",
    "query_filter = \"Newest\"\n",
    "datas = []\n",
    "\n",
    "for p in range(max_pages):\n",
    "    page_num = p + 1\n",
    "    url = f\"{base_url}{tag}?tab={query_filter}&page={page_num}&pagesize={pagesize}\"\n",
    "    datas.append(client.submit(extract_data_from_url, url))\n",
    "    time.sleep(1.2)\n",
    "\n",
    "\n",
    "wait(datas)"
   ]
  },
  {
   "cell_type": "code",
   "execution_count": 37,
   "id": "b3517698-0f67-4a94-bba9-a648f06a6d0d",
   "metadata": {},
   "outputs": [
    {
     "ename": "TypeError",
     "evalue": "'int' object is not iterable",
     "output_type": "error",
     "traceback": [
      "\u001b[0;31m---------------------------------------------------------------------------\u001b[0m",
      "\u001b[0;31mTypeError\u001b[0m                                 Traceback (most recent call last)",
      "Cell \u001b[0;32mIn [37], line 1\u001b[0m\n\u001b[0;32m----> 1\u001b[0m urls \u001b[38;5;241m=\u001b[39m [\u001b[38;5;124mf\u001b[39m\u001b[38;5;124m\"\u001b[39m\u001b[38;5;132;01m{\u001b[39;00mbase_url\u001b[38;5;132;01m}\u001b[39;00m\u001b[38;5;132;01m{\u001b[39;00mtag\u001b[38;5;132;01m}\u001b[39;00m\u001b[38;5;124m?tab=\u001b[39m\u001b[38;5;132;01m{\u001b[39;00mquery_filter\u001b[38;5;132;01m}\u001b[39;00m\u001b[38;5;124m&page=\u001b[39m\u001b[38;5;132;01m{\u001b[39;00mpage_num\u001b[38;5;132;01m}\u001b[39;00m\u001b[38;5;124m&pagesize=\u001b[39m\u001b[38;5;132;01m{\u001b[39;00mpagesize\u001b[38;5;132;01m}\u001b[39;00m\u001b[38;5;124m\"\u001b[39m \u001b[38;5;28;01mfor\u001b[39;00m page_num \u001b[38;5;129;01min\u001b[39;00m max_pages]\n\u001b[1;32m      2\u001b[0m urls\n",
      "\u001b[0;31mTypeError\u001b[0m: 'int' object is not iterable"
     ]
    }
   ],
   "source": [
    "# iterate over urls instead\n",
    "urls = [f\"{base_url}{tag}?tab={query_filter}&page={page_num}&pagesize={pagesize}\" for page_num in max_pages]\n",
    "urls\n",
    "\n",
    "# imitate this example\n",
    "results = []\n",
    "for i in range(20):\n",
    "    results.append(client.submit(add_things, 1, 2, i))"
   ]
  },
  {
   "cell_type": "code",
   "execution_count": null,
   "id": "b33160a8-16ab-4f41-9769-920ddaef9b0b",
   "metadata": {},
   "outputs": [],
   "source": []
  },
  {
   "cell_type": "code",
   "execution_count": null,
   "id": "88c15e84-0786-46f1-876a-d2c9671c842b",
   "metadata": {},
   "outputs": [],
   "source": []
  },
  {
   "cell_type": "code",
   "execution_count": null,
   "id": "35550b0c-a278-4a7b-8553-7239b30116cb",
   "metadata": {},
   "outputs": [],
   "source": []
  },
  {
   "cell_type": "code",
   "execution_count": 32,
   "id": "a1e1943b-0cb7-4a0d-bb26-e501f207aa71",
   "metadata": {},
   "outputs": [
    {
     "name": "stdout",
     "output_type": "stream",
     "text": [
      "CPU times: user 793 ms, sys: 190 ms, total: 983 ms\n",
      "Wall time: 12.1 s\n"
     ]
    },
    {
     "data": {
      "text/plain": [
       "DoneAndNotDoneFutures(done={<Future: finished, type: list, key: extract_data_from_url-d7e0116e941d2e23cfc1a92882994763>, <Future: finished, type: list, key: extract_data_from_url-08774f42e61962d120d885121ee8c62f>, <Future: finished, type: list, key: extract_data_from_url-ae95250fb98f257376ac7355035a642c>, <Future: finished, type: list, key: extract_data_from_url-c4f561b32fa10d57ec05200a41274bf5>, <Future: finished, type: list, key: extract_data_from_url-10b5a5d8a48d527e3d6a9ef73bb8e850>, <Future: finished, type: list, key: extract_data_from_url-58a7da78e8a18b276f554d84a771479f>, <Future: finished, type: list, key: extract_data_from_url-8c61af35e86d4feb931c3eb4cd7d2ae6>, <Future: finished, type: list, key: extract_data_from_url-bde5fe93ccb9ef1e9329987caf468c79>, <Future: finished, type: list, key: extract_data_from_url-e1137986f80e096e1ccfcdb1d6039a41>, <Future: finished, type: list, key: extract_data_from_url-61e672fa1e377f950ea2706a52e3210a>}, not_done=set())"
      ]
     },
     "execution_count": 32,
     "metadata": {},
     "output_type": "execute_result"
    }
   ],
   "source": [
    "%%time\n",
    "datas = scrape_tag_submit(max_pages=10)\n",
    "wait(datas)"
   ]
  },
  {
   "cell_type": "markdown",
   "id": "20a4c2db-7972-4d62-8c57-bb121ee9bfc4",
   "metadata": {},
   "source": [
    "This is not great yet, let's improve."
   ]
  },
  {
   "cell_type": "code",
   "execution_count": null,
   "id": "d7e51e89-0555-4867-b0b5-a96e2821102a",
   "metadata": {},
   "outputs": [],
   "source": []
  },
  {
   "cell_type": "code",
   "execution_count": null,
   "id": "54acd010-6e48-41f0-a98d-21b06fa12a95",
   "metadata": {},
   "outputs": [],
   "source": []
  },
  {
   "cell_type": "code",
   "execution_count": null,
   "id": "6f3307fa-cdd2-446e-bf6b-d3db12cb7ade",
   "metadata": {},
   "outputs": [],
   "source": []
  },
  {
   "cell_type": "code",
   "execution_count": null,
   "id": "16122c55-5167-4ae7-b2da-3afa67f0c300",
   "metadata": {},
   "outputs": [],
   "source": []
  },
  {
   "cell_type": "code",
   "execution_count": 16,
   "id": "7aad38af-6af7-4925-9f69-54791d9d716d",
   "metadata": {},
   "outputs": [
    {
     "name": "stdout",
     "output_type": "stream",
     "text": [
      "CPU times: user 22.2 s, sys: 615 ms, total: 22.8 s\n",
      "Wall time: 3min 13s\n"
     ]
    }
   ],
   "source": [
    "%%time\n",
    "datas = scrape_tag(tag=\"dask\")"
   ]
  },
  {
   "cell_type": "code",
   "execution_count": 73,
   "id": "a3b5111b-ea6e-4d92-8568-24dfce386041",
   "metadata": {},
   "outputs": [
    {
     "data": {
      "text/html": [
       "<div>\n",
       "<style scoped>\n",
       "    .dataframe tbody tr th:only-of-type {\n",
       "        vertical-align: middle;\n",
       "    }\n",
       "\n",
       "    .dataframe tbody tr th {\n",
       "        vertical-align: top;\n",
       "    }\n",
       "\n",
       "    .dataframe thead th {\n",
       "        text-align: right;\n",
       "    }\n",
       "</style>\n",
       "<table border=\"1\" class=\"dataframe\">\n",
       "  <thead>\n",
       "    <tr style=\"text-align: right;\">\n",
       "      <th></th>\n",
       "      <th>title</th>\n",
       "      <th>stats</th>\n",
       "      <th>tags</th>\n",
       "    </tr>\n",
       "  </thead>\n",
       "  <tbody>\n",
       "    <tr>\n",
       "      <th>0</th>\n",
       "      <td>Dask and persistence of data on the cluster</td>\n",
       "      <td>[0, 0, 23]</td>\n",
       "      <td>[python, dask]</td>\n",
       "    </tr>\n",
       "    <tr>\n",
       "      <th>1</th>\n",
       "      <td>calculating many dask delayed objects together; message as soon as each...</td>\n",
       "      <td>[0, 1, 20]</td>\n",
       "      <td>[python, dask]</td>\n",
       "    </tr>\n",
       "    <tr>\n",
       "      <th>2</th>\n",
       "      <td>Find out which rows of one 2D numpy array are represented in another 2D...</td>\n",
       "      <td>[-1, 3, 30]</td>\n",
       "      <td>[python, arrays, numpy, vectorization, dask]</td>\n",
       "    </tr>\n",
       "    <tr>\n",
       "      <th>3</th>\n",
       "      <td>dask-ml preprocessing raise AttributeError</td>\n",
       "      <td>[0, 0, 16]</td>\n",
       "      <td>[python, dask, dask-dataframe, dask-ml]</td>\n",
       "    </tr>\n",
       "    <tr>\n",
       "      <th>4</th>\n",
       "      <td>How to setup dask clusters and client by submitting a job on an HPC sys...</td>\n",
       "      <td>[1, 0, 11]</td>\n",
       "      <td>[python, dask, dask-distributed]</td>\n",
       "    </tr>\n",
       "  </tbody>\n",
       "</table>\n",
       "</div>"
      ],
      "text/plain": [
       "                                                                        title  \\\n",
       "0                                 Dask and persistence of data on the cluster   \n",
       "1  calculating many dask delayed objects together; message as soon as each...   \n",
       "2  Find out which rows of one 2D numpy array are represented in another 2D...   \n",
       "3                                  dask-ml preprocessing raise AttributeError   \n",
       "4  How to setup dask clusters and client by submitting a job on an HPC sys...   \n",
       "\n",
       "         stats                                          tags  \n",
       "0   [0, 0, 23]                                [python, dask]  \n",
       "1   [0, 1, 20]                                [python, dask]  \n",
       "2  [-1, 3, 30]  [python, arrays, numpy, vectorization, dask]  \n",
       "3   [0, 0, 16]       [python, dask, dask-dataframe, dask-ml]  \n",
       "4   [1, 0, 11]              [python, dask, dask-distributed]  "
      ]
     },
     "execution_count": 73,
     "metadata": {},
     "output_type": "execute_result"
    }
   ],
   "source": [
    "df = pd.DataFrame(datas)\n",
    "df.head()"
   ]
  },
  {
   "cell_type": "code",
   "execution_count": 74,
   "id": "5899983e-3a7c-498d-967e-67deb1eae694",
   "metadata": {},
   "outputs": [
    {
     "data": {
      "text/plain": [
       "4145"
      ]
     },
     "execution_count": 74,
     "metadata": {},
     "output_type": "execute_result"
    }
   ],
   "source": [
    "len(df)"
   ]
  },
  {
   "cell_type": "markdown",
   "id": "4ca15f0e-2b3a-4f41-af94-c083f0feca6b",
   "metadata": {},
   "source": [
    "## Clean up dataframe"
   ]
  },
  {
   "cell_type": "code",
   "execution_count": 75,
   "id": "0a29c137-5a1a-4da3-9bb0-9a8af3811c68",
   "metadata": {},
   "outputs": [
    {
     "data": {
      "text/html": [
       "<div>\n",
       "<style scoped>\n",
       "    .dataframe tbody tr th:only-of-type {\n",
       "        vertical-align: middle;\n",
       "    }\n",
       "\n",
       "    .dataframe tbody tr th {\n",
       "        vertical-align: top;\n",
       "    }\n",
       "\n",
       "    .dataframe thead th {\n",
       "        text-align: right;\n",
       "    }\n",
       "</style>\n",
       "<table border=\"1\" class=\"dataframe\">\n",
       "  <thead>\n",
       "    <tr style=\"text-align: right;\">\n",
       "      <th></th>\n",
       "      <th>title</th>\n",
       "      <th>tags</th>\n",
       "      <th>votes</th>\n",
       "      <th>answers</th>\n",
       "      <th>views</th>\n",
       "    </tr>\n",
       "  </thead>\n",
       "  <tbody>\n",
       "    <tr>\n",
       "      <th>0</th>\n",
       "      <td>Dask and persistence of data on the cluster</td>\n",
       "      <td>[python, dask]</td>\n",
       "      <td>0</td>\n",
       "      <td>0</td>\n",
       "      <td>23</td>\n",
       "    </tr>\n",
       "    <tr>\n",
       "      <th>1</th>\n",
       "      <td>calculating many dask delayed objects together; message as soon as each...</td>\n",
       "      <td>[python, dask]</td>\n",
       "      <td>0</td>\n",
       "      <td>1</td>\n",
       "      <td>20</td>\n",
       "    </tr>\n",
       "    <tr>\n",
       "      <th>2</th>\n",
       "      <td>Find out which rows of one 2D numpy array are represented in another 2D...</td>\n",
       "      <td>[python, arrays, numpy, vectorization, dask]</td>\n",
       "      <td>-1</td>\n",
       "      <td>3</td>\n",
       "      <td>30</td>\n",
       "    </tr>\n",
       "    <tr>\n",
       "      <th>3</th>\n",
       "      <td>dask-ml preprocessing raise AttributeError</td>\n",
       "      <td>[python, dask, dask-dataframe, dask-ml]</td>\n",
       "      <td>0</td>\n",
       "      <td>0</td>\n",
       "      <td>16</td>\n",
       "    </tr>\n",
       "    <tr>\n",
       "      <th>4</th>\n",
       "      <td>How to setup dask clusters and client by submitting a job on an HPC sys...</td>\n",
       "      <td>[python, dask, dask-distributed]</td>\n",
       "      <td>1</td>\n",
       "      <td>0</td>\n",
       "      <td>11</td>\n",
       "    </tr>\n",
       "  </tbody>\n",
       "</table>\n",
       "</div>"
      ],
      "text/plain": [
       "                                                                        title  \\\n",
       "0                                 Dask and persistence of data on the cluster   \n",
       "1  calculating many dask delayed objects together; message as soon as each...   \n",
       "2  Find out which rows of one 2D numpy array are represented in another 2D...   \n",
       "3                                  dask-ml preprocessing raise AttributeError   \n",
       "4  How to setup dask clusters and client by submitting a job on an HPC sys...   \n",
       "\n",
       "                                           tags  votes  answers  views  \n",
       "0                                [python, dask]      0        0     23  \n",
       "1                                [python, dask]      0        1     20  \n",
       "2  [python, arrays, numpy, vectorization, dask]     -1        3     30  \n",
       "3       [python, dask, dask-dataframe, dask-ml]      0        0     16  \n",
       "4              [python, dask, dask-distributed]      1        0     11  "
      ]
     },
     "execution_count": 75,
     "metadata": {},
     "output_type": "execute_result"
    }
   ],
   "source": [
    "# get stats into separate columns\n",
    "df[[\"votes\", \"answers\", \"views\"]] = pd.DataFrame(df[\"stats\"].to_list())\n",
    "df = df.drop(columns=[\"stats\"])\n",
    "df.head()"
   ]
  },
  {
   "cell_type": "code",
   "execution_count": 76,
   "id": "c6c69992-1e2d-4937-92a3-7aaade6871d6",
   "metadata": {},
   "outputs": [],
   "source": [
    "# TO DO\n",
    "# 1. Fetch question URL\n",
    "# 2. Fetch question timestamp\n",
    "# 3. Create \"answered\" true/false column\n",
    "# 4. For fun: use Futures to fetch data in parallel"
   ]
  },
  {
   "cell_type": "code",
   "execution_count": null,
   "id": "d3e4cbe0-5f16-4ba5-8bf8-f3709ce74acc",
   "metadata": {},
   "outputs": [],
   "source": []
  },
  {
   "cell_type": "markdown",
   "id": "6e301235-6564-4b07-97b8-c4b7fd9d0cbd",
   "metadata": {},
   "source": [
    "## Run some analyses"
   ]
  },
  {
   "cell_type": "code",
   "execution_count": 80,
   "id": "64c75f89-7be3-4801-aa26-129cb5a02d13",
   "metadata": {},
   "outputs": [],
   "source": [
    "# increase max col_width to see more of the titles\n",
    "pd.options.display.max_colwidth = 100"
   ]
  },
  {
   "cell_type": "code",
   "execution_count": 81,
   "id": "58a0aebd-d39f-4c02-8d02-014905d48b63",
   "metadata": {},
   "outputs": [
    {
     "data": {
      "text/html": [
       "<div>\n",
       "<style scoped>\n",
       "    .dataframe tbody tr th:only-of-type {\n",
       "        vertical-align: middle;\n",
       "    }\n",
       "\n",
       "    .dataframe tbody tr th {\n",
       "        vertical-align: top;\n",
       "    }\n",
       "\n",
       "    .dataframe thead th {\n",
       "        text-align: right;\n",
       "    }\n",
       "</style>\n",
       "<table border=\"1\" class=\"dataframe\">\n",
       "  <thead>\n",
       "    <tr style=\"text-align: right;\">\n",
       "      <th></th>\n",
       "      <th>title</th>\n",
       "      <th>tags</th>\n",
       "      <th>votes</th>\n",
       "      <th>answers</th>\n",
       "      <th>views</th>\n",
       "    </tr>\n",
       "  </thead>\n",
       "  <tbody>\n",
       "    <tr>\n",
       "      <th>3677</th>\n",
       "      <td>Make Pandas DataFrame apply() use all cores?</td>\n",
       "      <td>[pandas, dask]</td>\n",
       "      <td>170</td>\n",
       "      <td>12</td>\n",
       "      <td>126000</td>\n",
       "    </tr>\n",
       "    <tr>\n",
       "      <th>4047</th>\n",
       "      <td>At what situation I can use Dask instead of Apache Spark? [closed]</td>\n",
       "      <td>[python, pandas, apache-spark, dask]</td>\n",
       "      <td>101</td>\n",
       "      <td>1</td>\n",
       "      <td>41000</td>\n",
       "    </tr>\n",
       "    <tr>\n",
       "      <th>3155</th>\n",
       "      <td>A comparison between fastparquet and pyarrow?</td>\n",
       "      <td>[python, parquet, dask, pyarrow, fastparquet]</td>\n",
       "      <td>66</td>\n",
       "      <td>5</td>\n",
       "      <td>43000</td>\n",
       "    </tr>\n",
       "    <tr>\n",
       "      <th>4039</th>\n",
       "      <td>How to transform Dask.DataFrame to pd.DataFrame?</td>\n",
       "      <td>[python, pandas, dask]</td>\n",
       "      <td>53</td>\n",
       "      <td>3</td>\n",
       "      <td>37000</td>\n",
       "    </tr>\n",
       "    <tr>\n",
       "      <th>4143</th>\n",
       "      <td>python dask DataFrame, support for (trivially parallelizable) row apply?</td>\n",
       "      <td>[python, pandas, parallel-processing, dask]</td>\n",
       "      <td>51</td>\n",
       "      <td>2</td>\n",
       "      <td>25000</td>\n",
       "    </tr>\n",
       "    <tr>\n",
       "      <th>3991</th>\n",
       "      <td>Convert Pandas dataframe to Dask dataframe</td>\n",
       "      <td>[python, pandas, dataframe, data-conversion, dask]</td>\n",
       "      <td>47</td>\n",
       "      <td>1</td>\n",
       "      <td>51000</td>\n",
       "    </tr>\n",
       "    <tr>\n",
       "      <th>3711</th>\n",
       "      <td>Out-of-core processing of sparse CSR arrays</td>\n",
       "      <td>[python, scipy, apache-spark-mllib, dask, joblib]</td>\n",
       "      <td>43</td>\n",
       "      <td>1</td>\n",
       "      <td>2000</td>\n",
       "    </tr>\n",
       "    <tr>\n",
       "      <th>3997</th>\n",
       "      <td>Writing Dask partitions into single file</td>\n",
       "      <td>[python, dask]</td>\n",
       "      <td>34</td>\n",
       "      <td>2</td>\n",
       "      <td>16000</td>\n",
       "    </tr>\n",
       "    <tr>\n",
       "      <th>4001</th>\n",
       "      <td>Writing Dask partitions into single file</td>\n",
       "      <td>[python, dask]</td>\n",
       "      <td>34</td>\n",
       "      <td>2</td>\n",
       "      <td>16000</td>\n",
       "    </tr>\n",
       "    <tr>\n",
       "      <th>3970</th>\n",
       "      <td>Can dask parralelize reading fom a csv file?</td>\n",
       "      <td>[python, csv, pandas, dask]</td>\n",
       "      <td>32</td>\n",
       "      <td>2</td>\n",
       "      <td>26000</td>\n",
       "    </tr>\n",
       "  </tbody>\n",
       "</table>\n",
       "</div>"
      ],
      "text/plain": [
       "                                                                         title  \\\n",
       "3677                              Make Pandas DataFrame apply() use all cores?   \n",
       "4047        At what situation I can use Dask instead of Apache Spark? [closed]   \n",
       "3155                             A comparison between fastparquet and pyarrow?   \n",
       "4039                          How to transform Dask.DataFrame to pd.DataFrame?   \n",
       "4143  python dask DataFrame, support for (trivially parallelizable) row apply?   \n",
       "3991                                Convert Pandas dataframe to Dask dataframe   \n",
       "3711                               Out-of-core processing of sparse CSR arrays   \n",
       "3997                                  Writing Dask partitions into single file   \n",
       "4001                                  Writing Dask partitions into single file   \n",
       "3970                              Can dask parralelize reading fom a csv file?   \n",
       "\n",
       "                                                    tags  votes  answers  \\\n",
       "3677                                      [pandas, dask]    170       12   \n",
       "4047                [python, pandas, apache-spark, dask]    101        1   \n",
       "3155       [python, parquet, dask, pyarrow, fastparquet]     66        5   \n",
       "4039                              [python, pandas, dask]     53        3   \n",
       "4143         [python, pandas, parallel-processing, dask]     51        2   \n",
       "3991  [python, pandas, dataframe, data-conversion, dask]     47        1   \n",
       "3711   [python, scipy, apache-spark-mllib, dask, joblib]     43        1   \n",
       "3997                                      [python, dask]     34        2   \n",
       "4001                                      [python, dask]     34        2   \n",
       "3970                         [python, csv, pandas, dask]     32        2   \n",
       "\n",
       "       views  \n",
       "3677  126000  \n",
       "4047   41000  \n",
       "3155   43000  \n",
       "4039   37000  \n",
       "4143   25000  \n",
       "3991   51000  \n",
       "3711    2000  \n",
       "3997   16000  \n",
       "4001   16000  \n",
       "3970   26000  "
      ]
     },
     "execution_count": 81,
     "metadata": {},
     "output_type": "execute_result"
    }
   ],
   "source": [
    "# most-upvoted questions\n",
    "df.sort_values(\"votes\", ascending=False).head(10)"
   ]
  },
  {
   "cell_type": "code",
   "execution_count": 84,
   "id": "f1c0866f-ab6f-4c2c-9d7e-6c3207930541",
   "metadata": {},
   "outputs": [
    {
     "data": {
      "text/html": [
       "<div>\n",
       "<style scoped>\n",
       "    .dataframe tbody tr th:only-of-type {\n",
       "        vertical-align: middle;\n",
       "    }\n",
       "\n",
       "    .dataframe tbody tr th {\n",
       "        vertical-align: top;\n",
       "    }\n",
       "\n",
       "    .dataframe thead th {\n",
       "        text-align: right;\n",
       "    }\n",
       "</style>\n",
       "<table border=\"1\" class=\"dataframe\">\n",
       "  <thead>\n",
       "    <tr style=\"text-align: right;\">\n",
       "      <th></th>\n",
       "      <th>title</th>\n",
       "      <th>tags</th>\n",
       "      <th>votes</th>\n",
       "      <th>answers</th>\n",
       "      <th>views</th>\n",
       "    </tr>\n",
       "  </thead>\n",
       "  <tbody>\n",
       "    <tr>\n",
       "      <th>3677</th>\n",
       "      <td>Make Pandas DataFrame apply() use all cores?</td>\n",
       "      <td>[pandas, dask]</td>\n",
       "      <td>170</td>\n",
       "      <td>12</td>\n",
       "      <td>126000</td>\n",
       "    </tr>\n",
       "    <tr>\n",
       "      <th>3991</th>\n",
       "      <td>Convert Pandas dataframe to Dask dataframe</td>\n",
       "      <td>[python, pandas, dataframe, data-conversion, dask]</td>\n",
       "      <td>47</td>\n",
       "      <td>1</td>\n",
       "      <td>51000</td>\n",
       "    </tr>\n",
       "    <tr>\n",
       "      <th>3155</th>\n",
       "      <td>A comparison between fastparquet and pyarrow?</td>\n",
       "      <td>[python, parquet, dask, pyarrow, fastparquet]</td>\n",
       "      <td>66</td>\n",
       "      <td>5</td>\n",
       "      <td>43000</td>\n",
       "    </tr>\n",
       "    <tr>\n",
       "      <th>4047</th>\n",
       "      <td>At what situation I can use Dask instead of Apache Spark? [closed]</td>\n",
       "      <td>[python, pandas, apache-spark, dask]</td>\n",
       "      <td>101</td>\n",
       "      <td>1</td>\n",
       "      <td>41000</td>\n",
       "    </tr>\n",
       "    <tr>\n",
       "      <th>4039</th>\n",
       "      <td>How to transform Dask.DataFrame to pd.DataFrame?</td>\n",
       "      <td>[python, pandas, dask]</td>\n",
       "      <td>53</td>\n",
       "      <td>3</td>\n",
       "      <td>37000</td>\n",
       "    </tr>\n",
       "    <tr>\n",
       "      <th>4028</th>\n",
       "      <td>Convert string to dict, then access key:values??? How to access data in a &lt;class 'dict'&gt; for Pyt...</td>\n",
       "      <td>[python, pandas, dictionary, data-manipulation, dask]</td>\n",
       "      <td>19</td>\n",
       "      <td>4</td>\n",
       "      <td>34000</td>\n",
       "    </tr>\n",
       "    <tr>\n",
       "      <th>3908</th>\n",
       "      <td>Default pip installation of Dask gives \"ImportError: No module named toolz\"</td>\n",
       "      <td>[python, installation, pip, importerror, dask]</td>\n",
       "      <td>22</td>\n",
       "      <td>6</td>\n",
       "      <td>28000</td>\n",
       "    </tr>\n",
       "    <tr>\n",
       "      <th>3996</th>\n",
       "      <td>dask dataframe how to convert column to to_datetime</td>\n",
       "      <td>[python, pandas, dask]</td>\n",
       "      <td>19</td>\n",
       "      <td>5</td>\n",
       "      <td>28000</td>\n",
       "    </tr>\n",
       "    <tr>\n",
       "      <th>2125</th>\n",
       "      <td>Only a column name can be used for the key in a dtype mappings argument</td>\n",
       "      <td>[python, pandas, dask]</td>\n",
       "      <td>9</td>\n",
       "      <td>1</td>\n",
       "      <td>28000</td>\n",
       "    </tr>\n",
       "    <tr>\n",
       "      <th>4000</th>\n",
       "      <td>dask dataframe how to convert column to to_datetime</td>\n",
       "      <td>[python, pandas, dask]</td>\n",
       "      <td>19</td>\n",
       "      <td>5</td>\n",
       "      <td>28000</td>\n",
       "    </tr>\n",
       "  </tbody>\n",
       "</table>\n",
       "</div>"
      ],
      "text/plain": [
       "                                                                                                    title  \\\n",
       "3677                                                         Make Pandas DataFrame apply() use all cores?   \n",
       "3991                                                           Convert Pandas dataframe to Dask dataframe   \n",
       "3155                                                        A comparison between fastparquet and pyarrow?   \n",
       "4047                                   At what situation I can use Dask instead of Apache Spark? [closed]   \n",
       "4039                                                     How to transform Dask.DataFrame to pd.DataFrame?   \n",
       "4028  Convert string to dict, then access key:values??? How to access data in a <class 'dict'> for Pyt...   \n",
       "3908                          Default pip installation of Dask gives \"ImportError: No module named toolz\"   \n",
       "3996                                                  dask dataframe how to convert column to to_datetime   \n",
       "2125                              Only a column name can be used for the key in a dtype mappings argument   \n",
       "4000                                                  dask dataframe how to convert column to to_datetime   \n",
       "\n",
       "                                                       tags  votes  answers  \\\n",
       "3677                                         [pandas, dask]    170       12   \n",
       "3991     [python, pandas, dataframe, data-conversion, dask]     47        1   \n",
       "3155          [python, parquet, dask, pyarrow, fastparquet]     66        5   \n",
       "4047                   [python, pandas, apache-spark, dask]    101        1   \n",
       "4039                                 [python, pandas, dask]     53        3   \n",
       "4028  [python, pandas, dictionary, data-manipulation, dask]     19        4   \n",
       "3908         [python, installation, pip, importerror, dask]     22        6   \n",
       "3996                                 [python, pandas, dask]     19        5   \n",
       "2125                                 [python, pandas, dask]      9        1   \n",
       "4000                                 [python, pandas, dask]     19        5   \n",
       "\n",
       "       views  \n",
       "3677  126000  \n",
       "3991   51000  \n",
       "3155   43000  \n",
       "4047   41000  \n",
       "4039   37000  \n",
       "4028   34000  \n",
       "3908   28000  \n",
       "3996   28000  \n",
       "2125   28000  \n",
       "4000   28000  "
      ]
     },
     "execution_count": 84,
     "metadata": {},
     "output_type": "execute_result"
    }
   ],
   "source": [
    "# most-viewed questions\n",
    "df.sort_values(\"views\", ascending=False).head(10)"
   ]
  },
  {
   "cell_type": "markdown",
   "id": "a0e53430-d548-4192-8cb4-e21844409fee",
   "metadata": {},
   "source": [
    "These popular questions could be used to drive content-creation on the Dask blog / social channels."
   ]
  },
  {
   "cell_type": "code",
   "execution_count": 61,
   "id": "c89b571e-896a-49c0-b448-424ed6d2b625",
   "metadata": {},
   "outputs": [
    {
     "data": {
      "text/html": [
       "<div>\n",
       "<style scoped>\n",
       "    .dataframe tbody tr th:only-of-type {\n",
       "        vertical-align: middle;\n",
       "    }\n",
       "\n",
       "    .dataframe tbody tr th {\n",
       "        vertical-align: top;\n",
       "    }\n",
       "\n",
       "    .dataframe thead th {\n",
       "        text-align: right;\n",
       "    }\n",
       "</style>\n",
       "<table border=\"1\" class=\"dataframe\">\n",
       "  <thead>\n",
       "    <tr style=\"text-align: right;\">\n",
       "      <th></th>\n",
       "      <th>index</th>\n",
       "      <th>0</th>\n",
       "    </tr>\n",
       "  </thead>\n",
       "  <tbody>\n",
       "    <tr>\n",
       "      <th>1</th>\n",
       "      <td>dask</td>\n",
       "      <td>4145</td>\n",
       "    </tr>\n",
       "    <tr>\n",
       "      <th>0</th>\n",
       "      <td>python</td>\n",
       "      <td>2672</td>\n",
       "    </tr>\n",
       "    <tr>\n",
       "      <th>9</th>\n",
       "      <td>pandas</td>\n",
       "      <td>1091</td>\n",
       "    </tr>\n",
       "    <tr>\n",
       "      <th>7</th>\n",
       "      <td>dask-distributed</td>\n",
       "      <td>954</td>\n",
       "    </tr>\n",
       "    <tr>\n",
       "      <th>8</th>\n",
       "      <td>dataframe</td>\n",
       "      <td>468</td>\n",
       "    </tr>\n",
       "    <tr>\n",
       "      <th>5</th>\n",
       "      <td>dask-dataframe</td>\n",
       "      <td>311</td>\n",
       "    </tr>\n",
       "    <tr>\n",
       "      <th>23</th>\n",
       "      <td>python-3.x</td>\n",
       "      <td>274</td>\n",
       "    </tr>\n",
       "    <tr>\n",
       "      <th>17</th>\n",
       "      <td>dask-delayed</td>\n",
       "      <td>256</td>\n",
       "    </tr>\n",
       "    <tr>\n",
       "      <th>3</th>\n",
       "      <td>numpy</td>\n",
       "      <td>175</td>\n",
       "    </tr>\n",
       "    <tr>\n",
       "      <th>15</th>\n",
       "      <td>python-xarray</td>\n",
       "      <td>175</td>\n",
       "    </tr>\n",
       "  </tbody>\n",
       "</table>\n",
       "</div>"
      ],
      "text/plain": [
       "               index     0\n",
       "1               dask  4145\n",
       "0             python  2672\n",
       "9             pandas  1091\n",
       "7   dask-distributed   954\n",
       "8          dataframe   468\n",
       "5     dask-dataframe   311\n",
       "23        python-3.x   274\n",
       "17      dask-delayed   256\n",
       "3              numpy   175\n",
       "15     python-xarray   175"
      ]
     },
     "execution_count": 61,
     "metadata": {},
     "output_type": "execute_result"
    }
   ],
   "source": [
    "# most common tags\n",
    "\n",
    "# get all tags into a list of lists\n",
    "all_tags = []\n",
    "for row in df.tags:\n",
    "    all_tags.append(row)\n",
    "\n",
    "from collections import Counter\n",
    "from itertools import chain\n",
    "\n",
    "# count all tags\n",
    "c = Counter(chain(*all_tags))\n",
    "\n",
    "# transform into dataframe\n",
    "df = pd.DataFrame.from_dict(c, orient=\"index\").reset_index()\n",
    "df.sort_values(0, ascending=False).head(10)"
   ]
  },
  {
   "cell_type": "code",
   "execution_count": 62,
   "id": "a9ebf4f7-7e42-4a53-95f9-cebeaa21203b",
   "metadata": {},
   "outputs": [],
   "source": [
    "# drop \"dask\" and \"python\" tags\n",
    "df = df[df[\"index\"] != \"dask\"]\n",
    "df = df[df[\"index\"] != \"python\"]\n",
    "df = df[df[\"index\"] != \"python-3.x\"]"
   ]
  },
  {
   "cell_type": "code",
   "execution_count": 63,
   "id": "dbe237e6-ba3d-4bce-aec1-fc5104877489",
   "metadata": {},
   "outputs": [
    {
     "data": {
      "text/html": [
       "<div>\n",
       "<style scoped>\n",
       "    .dataframe tbody tr th:only-of-type {\n",
       "        vertical-align: middle;\n",
       "    }\n",
       "\n",
       "    .dataframe tbody tr th {\n",
       "        vertical-align: top;\n",
       "    }\n",
       "\n",
       "    .dataframe thead th {\n",
       "        text-align: right;\n",
       "    }\n",
       "</style>\n",
       "<table border=\"1\" class=\"dataframe\">\n",
       "  <thead>\n",
       "    <tr style=\"text-align: right;\">\n",
       "      <th></th>\n",
       "      <th>index</th>\n",
       "      <th>0</th>\n",
       "    </tr>\n",
       "  </thead>\n",
       "  <tbody>\n",
       "    <tr>\n",
       "      <th>9</th>\n",
       "      <td>pandas</td>\n",
       "      <td>1091</td>\n",
       "    </tr>\n",
       "    <tr>\n",
       "      <th>7</th>\n",
       "      <td>dask-distributed</td>\n",
       "      <td>954</td>\n",
       "    </tr>\n",
       "    <tr>\n",
       "      <th>8</th>\n",
       "      <td>dataframe</td>\n",
       "      <td>468</td>\n",
       "    </tr>\n",
       "    <tr>\n",
       "      <th>5</th>\n",
       "      <td>dask-dataframe</td>\n",
       "      <td>311</td>\n",
       "    </tr>\n",
       "    <tr>\n",
       "      <th>17</th>\n",
       "      <td>dask-delayed</td>\n",
       "      <td>256</td>\n",
       "    </tr>\n",
       "    <tr>\n",
       "      <th>3</th>\n",
       "      <td>numpy</td>\n",
       "      <td>175</td>\n",
       "    </tr>\n",
       "    <tr>\n",
       "      <th>15</th>\n",
       "      <td>python-xarray</td>\n",
       "      <td>175</td>\n",
       "    </tr>\n",
       "    <tr>\n",
       "      <th>43</th>\n",
       "      <td>parallel-processing</td>\n",
       "      <td>161</td>\n",
       "    </tr>\n",
       "    <tr>\n",
       "      <th>16</th>\n",
       "      <td>parquet</td>\n",
       "      <td>135</td>\n",
       "    </tr>\n",
       "    <tr>\n",
       "      <th>48</th>\n",
       "      <td>csv</td>\n",
       "      <td>113</td>\n",
       "    </tr>\n",
       "  </tbody>\n",
       "</table>\n",
       "</div>"
      ],
      "text/plain": [
       "                  index     0\n",
       "9                pandas  1091\n",
       "7      dask-distributed   954\n",
       "8             dataframe   468\n",
       "5        dask-dataframe   311\n",
       "17         dask-delayed   256\n",
       "3                 numpy   175\n",
       "15        python-xarray   175\n",
       "43  parallel-processing   161\n",
       "16              parquet   135\n",
       "48                  csv   113"
      ]
     },
     "execution_count": 63,
     "metadata": {},
     "output_type": "execute_result"
    }
   ],
   "source": [
    "df.sort_values(0, ascending=False).head(10)"
   ]
  },
  {
   "cell_type": "code",
   "execution_count": 64,
   "id": "4d47b24a-14f4-4eb2-b586-c749a179fc02",
   "metadata": {},
   "outputs": [
    {
     "data": {
      "text/html": [
       "<div>\n",
       "<style scoped>\n",
       "    .dataframe tbody tr th:only-of-type {\n",
       "        vertical-align: middle;\n",
       "    }\n",
       "\n",
       "    .dataframe tbody tr th {\n",
       "        vertical-align: top;\n",
       "    }\n",
       "\n",
       "    .dataframe thead th {\n",
       "        text-align: right;\n",
       "    }\n",
       "</style>\n",
       "<table border=\"1\" class=\"dataframe\">\n",
       "  <thead>\n",
       "    <tr style=\"text-align: right;\">\n",
       "      <th></th>\n",
       "      <th>tag</th>\n",
       "      <th>count</th>\n",
       "    </tr>\n",
       "  </thead>\n",
       "  <tbody>\n",
       "    <tr>\n",
       "      <th>9</th>\n",
       "      <td>pandas</td>\n",
       "      <td>1091</td>\n",
       "    </tr>\n",
       "    <tr>\n",
       "      <th>7</th>\n",
       "      <td>dask-distributed</td>\n",
       "      <td>954</td>\n",
       "    </tr>\n",
       "    <tr>\n",
       "      <th>8</th>\n",
       "      <td>dataframe</td>\n",
       "      <td>468</td>\n",
       "    </tr>\n",
       "    <tr>\n",
       "      <th>5</th>\n",
       "      <td>dask-dataframe</td>\n",
       "      <td>311</td>\n",
       "    </tr>\n",
       "    <tr>\n",
       "      <th>17</th>\n",
       "      <td>dask-delayed</td>\n",
       "      <td>256</td>\n",
       "    </tr>\n",
       "    <tr>\n",
       "      <th>3</th>\n",
       "      <td>numpy</td>\n",
       "      <td>175</td>\n",
       "    </tr>\n",
       "    <tr>\n",
       "      <th>15</th>\n",
       "      <td>python-xarray</td>\n",
       "      <td>175</td>\n",
       "    </tr>\n",
       "    <tr>\n",
       "      <th>43</th>\n",
       "      <td>parallel-processing</td>\n",
       "      <td>161</td>\n",
       "    </tr>\n",
       "    <tr>\n",
       "      <th>16</th>\n",
       "      <td>parquet</td>\n",
       "      <td>135</td>\n",
       "    </tr>\n",
       "    <tr>\n",
       "      <th>48</th>\n",
       "      <td>csv</td>\n",
       "      <td>113</td>\n",
       "    </tr>\n",
       "  </tbody>\n",
       "</table>\n",
       "</div>"
      ],
      "text/plain": [
       "                    tag  count\n",
       "9                pandas   1091\n",
       "7      dask-distributed    954\n",
       "8             dataframe    468\n",
       "5        dask-dataframe    311\n",
       "17         dask-delayed    256\n",
       "3                 numpy    175\n",
       "15        python-xarray    175\n",
       "43  parallel-processing    161\n",
       "16              parquet    135\n",
       "48                  csv    113"
      ]
     },
     "execution_count": 64,
     "metadata": {},
     "output_type": "execute_result"
    }
   ],
   "source": [
    "df = df.rename(columns={\"index\": \"tag\", 0: \"count\"})\n",
    "df.sort_values(\"count\", ascending=False).head(10)"
   ]
  },
  {
   "cell_type": "code",
   "execution_count": 65,
   "id": "93b8d970-ae2e-45eb-a151-fb2ad842f49d",
   "metadata": {},
   "outputs": [],
   "source": [
    "import matplotlib.pyplot as plt"
   ]
  },
  {
   "cell_type": "code",
   "execution_count": 68,
   "id": "a101c314-2928-4f7c-9487-13d6867343b0",
   "metadata": {},
   "outputs": [],
   "source": [
    "df_plot = df.sort_values(\"count\", ascending=False).head(10).reset_index(drop=True)"
   ]
  },
  {
   "cell_type": "code",
   "execution_count": 69,
   "id": "24c11446-beda-4e44-ba38-231296b6762d",
   "metadata": {},
   "outputs": [
    {
     "data": {
      "text/plain": [
       "<AxesSubplot: ylabel='count'>"
      ]
     },
     "execution_count": 69,
     "metadata": {},
     "output_type": "execute_result"
    },
    {
     "data": {
      "image/png": "[encoded data removed]",
      "text/plain": [
       "<Figure size 1600x800 with 1 Axes>"
      ]
     },
     "metadata": {},
     "output_type": "display_data"
    }
   ],
   "source": [
    "plt.figure(figsize=(16, 8))\n",
    "# plot chart\n",
    "ax1 = plt.subplot(121, aspect=\"equal\")\n",
    "df_plot.plot(\n",
    "    kind=\"pie\",\n",
    "    y=\"count\",\n",
    "    ax=ax1,\n",
    "    autopct=\"%1.1f%%\",\n",
    "    startangle=90,\n",
    "    shadow=False,\n",
    "    labels=df_plot.tag,\n",
    "    legend=False,\n",
    "    fontsize=14,\n",
    ")"
   ]
  },
  {
   "cell_type": "markdown",
   "id": "d77b763e-b1dd-44a0-985e-23fcad213c7e",
   "metadata": {},
   "source": [
    "These give some indication of the Collections folks are using / running into issues with.\n",
    "\n",
    "Assuming that all \"pandas\"-tagged questions are DataFrame questions, that would mean that **almost half of the questions (48.7%) are related to Dask DataFrame**."
   ]
  },
  {
   "cell_type": "code",
   "execution_count": null,
   "id": "30bbb40c-bf31-4bbd-804b-08df679a5fec",
   "metadata": {},
   "outputs": [],
   "source": []
  },
  {
   "cell_type": "markdown",
   "id": "d89334b8-d5c0-4547-b4bb-17b91f4e715a",
   "metadata": {},
   "source": [
    "## Possible Next Steps\n",
    "\n",
    "It would be interesting to:\n",
    "- Run topic modelling on Dask DataFrame questions to get more fine-grained understanding of what folks are running into\n",
    "- Same for dask-distributed\n",
    "- Add timestamps to questions to see how questions/usage seems to change over time\n",
    "- Build out analyses for other platforms and compare.\n",
    "- ..."
   ]
  },
  {
   "cell_type": "code",
   "execution_count": null,
   "id": "4e348be8-0a4f-4bba-8031-537d74061833",
   "metadata": {},
   "outputs": [],
   "source": []
  },
  {
   "cell_type": "code",
   "execution_count": null,
   "id": "8a38d393-e495-4f02-92dd-a4fdca2dc743",
   "metadata": {},
   "outputs": [],
   "source": []
  },
  {
   "cell_type": "code",
   "execution_count": null,
   "id": "8038f323-90a9-4261-b99d-90ab88b76fd2",
   "metadata": {},
   "outputs": [],
   "source": []
  },
  {
   "cell_type": "code",
   "execution_count": null,
   "id": "8edb705e-3cd1-4be0-949c-bc2b066384b1",
   "metadata": {},
   "outputs": [],
   "source": []
  },
  {
   "cell_type": "markdown",
   "id": "4fc70fb0-f290-4bbe-b152-3aac2ce80121",
   "metadata": {},
   "source": [
    "## Keep in Mind\n",
    "\n",
    "Ian shared this, try it out: https://data.stackexchange.com/stackoverflow/query/edit/1491554"
   ]
  },
  {
   "cell_type": "code",
   "execution_count": null,
   "id": "d37d75dd-13d7-412e-9ef5-b39b17a53647",
   "metadata": {},
   "outputs": [],
   "source": []
  }
 ],
 "metadata": {
  "kernelspec": {
   "display_name": "Python [conda env:scrape]",
   "language": "python",
   "name": "conda-env-scrape-py"
  },
  "language_info": {
   "codemirror_mode": {
    "name": "ipython",
    "version": 3
   },
   "file_extension": ".py",
   "mimetype": "text/x-python",
   "name": "python",
   "nbconvert_exporter": "python",
   "pygments_lexer": "ipython3",
   "version": "3.10.6"
  }
 },
 "nbformat": 4,
 "nbformat_minor": 5
}
